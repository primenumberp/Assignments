{
  "metadata": {
    "kernelspec": {
      "name": "python",
      "display_name": "Python (Pyodide)",
      "language": "python"
    },
    "language_info": {
      "codemirror_mode": {
        "name": "python",
        "version": 3
      },
      "file_extension": ".py",
      "mimetype": "text/x-python",
      "name": "python",
      "nbconvert_exporter": "python",
      "pygments_lexer": "ipython3",
      "version": "3.8"
    }
  },
  "nbformat_minor": 4,
  "nbformat": 4,
  "cells": [
    {
      "cell_type": "markdown",
      "source": "# Data Science Tools and Ecosystem",
      "metadata": {}
    },
    {
      "cell_type": "markdown",
      "source": "The following notebook contains a summary of Dara Science Tools and Ecosystem.",
      "metadata": {}
    },
    {
      "cell_type": "markdown",
      "source": "Popular Data Science Languages include:",
      "metadata": {}
    },
    {
      "cell_type": "markdown",
      "source": "1. Python\n2. JavaScript\n3. C++",
      "metadata": {}
    },
    {
      "cell_type": "markdown",
      "source": "Common Data Science Libraries include:",
      "metadata": {}
    },
    {
      "cell_type": "markdown",
      "source": "1. TensorFlow\n2. Pandas\n3. Keras",
      "metadata": {}
    },
    {
      "cell_type": "markdown",
      "source": "| Data Science Tools |\n|--------------------|\n| Apache Spark|\n| TensorFlow |\n| RStudio |",
      "metadata": {}
    },
    {
      "cell_type": "markdown",
      "source": "### Arithmetic Operations in Python",
      "metadata": {}
    },
    {
      "cell_type": "code",
      "source": "(3*4)+5",
      "metadata": {
        "trusted": true,
        "scrolled": true
      },
      "outputs": [
        {
          "execution_count": 14,
          "output_type": "execute_result",
          "data": {
            "text/plain": "17"
          },
          "metadata": {}
        }
      ],
      "execution_count": 14
    },
    {
      "cell_type": "markdown",
      "source": "converting 200 minutes to hours using division",
      "metadata": {}
    },
    {
      "cell_type": "code",
      "source": "(200/60)",
      "metadata": {
        "trusted": true
      },
      "outputs": [
        {
          "execution_count": 17,
          "output_type": "execute_result",
          "data": {
            "text/plain": "3.3333333333333335"
          },
          "metadata": {}
        }
      ],
      "execution_count": 17
    },
    {
      "cell_type": "markdown",
      "source": "**Objectives**",
      "metadata": {}
    },
    {
      "cell_type": "markdown",
      "source": "*  List Poular Data Science Tools\n*  Understand Open Source Data Science Tools\n*  Introduction to GitHub and RStudio",
      "metadata": {}
    },
    {
      "cell_type": "markdown",
      "source": "## Author",
      "metadata": {}
    },
    {
      "cell_type": "markdown",
      "source": "P. Hussey",
      "metadata": {}
    },
    {
      "cell_type": "code",
      "source": "",
      "metadata": {
        "trusted": true
      },
      "outputs": [],
      "execution_count": null
    }
  ]
}